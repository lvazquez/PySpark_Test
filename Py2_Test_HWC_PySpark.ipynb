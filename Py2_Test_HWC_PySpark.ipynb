{
 "cells": [
  {
   "cell_type": "code",
   "execution_count": 1,
   "metadata": {},
   "outputs": [
    {
     "name": "stdout",
     "output_type": "stream",
     "text": [
      "+------------------+\n",
      "|     database_name|\n",
      "+------------------+\n",
      "|           default|\n",
      "|information_schema|\n",
      "|               pdi|\n",
      "|            poc_db|\n",
      "|               sys|\n",
      "|           twitter|\n",
      "+------------------+\n",
      "\n"
     ]
    }
   ],
   "source": [
    "from pyspark_llap import HiveWarehouseSession\n",
    "hive = HiveWarehouseSession.session(spark).build()\n",
    "hive.showDatabases().show(10)"
   ]
  },
  {
   "cell_type": "code",
   "execution_count": 2,
   "metadata": {},
   "outputs": [
    {
     "name": "stdout",
     "output_type": "stream",
     "text": [
      "+---------------+---------+-------+\n",
      "|       col_name|data_type|comment|\n",
      "+---------------+---------+-------+\n",
      "|   sold_time_sk|   bigint|       |\n",
      "|ws_ship_date_sk|   bigint|       |\n",
      "+---------------+---------+-------+\n",
      "\n"
     ]
    }
   ],
   "source": [
    "hive.setDatabase(\"default\")\n",
    "hive.createTable(\"web_sales\").ifNotExists().\\\n",
    "    column(\"sold_time_sk\", \"bigint\").column(\"ws_ship_date_sk\", \"bigint\").create()\n",
    "hive.describeTable(\"web_sales\").show()\n",
    "hive.dropTable(\"web_sales\", True, True)"
   ]
  },
  {
   "cell_type": "code",
   "execution_count": 3,
   "metadata": {},
   "outputs": [
    {
     "name": "stdout",
     "output_type": "stream",
     "text": [
      "root\n",
      " |-- name: string (nullable = true)\n",
      " |-- title: string (nullable = true)\n",
      " |-- department: string (nullable = true)\n",
      " |-- salary: integer (nullable = true)\n",
      "\n"
     ]
    }
   ],
   "source": [
    "df = spark.read.csv(\"/data/examples/Employees.tsv\", \n",
    "                    header=False, sep='\\t', mode=\"DROPMALFORMED\", inferSchema=True\n",
    "                   ).toDF(\"name\", \"title\", \"department\", \"salary\")\n",
    "df.printSchema()"
   ]
  },
  {
   "cell_type": "code",
   "execution_count": 4,
   "metadata": {},
   "outputs": [],
   "source": [
    "df.write.format(HiveWarehouseSession().HIVE_WAREHOUSE_CONNECTOR)\\\n",
    "    .mode(\"overwrite\").option(\"table\", \"employees\").save()"
   ]
  },
  {
   "cell_type": "code",
   "execution_count": 5,
   "metadata": {},
   "outputs": [
    {
     "data": {
      "text/html": [
       "<div>\n",
       "<style scoped>\n",
       "    .dataframe tbody tr th:only-of-type {\n",
       "        vertical-align: middle;\n",
       "    }\n",
       "\n",
       "    .dataframe tbody tr th {\n",
       "        vertical-align: top;\n",
       "    }\n",
       "\n",
       "    .dataframe thead th {\n",
       "        text-align: right;\n",
       "    }\n",
       "</style>\n",
       "<table border=\"1\" class=\"dataframe\">\n",
       "  <thead>\n",
       "    <tr style=\"text-align: right;\">\n",
       "      <th></th>\n",
       "      <th>name</th>\n",
       "      <th>title</th>\n",
       "      <th>department</th>\n",
       "      <th>salary</th>\n",
       "    </tr>\n",
       "  </thead>\n",
       "  <tbody>\n",
       "    <tr>\n",
       "      <th>0</th>\n",
       "      <td>AARON,  ELVIA J</td>\n",
       "      <td>WATER RATE TAKER</td>\n",
       "      <td>WATER MGMNT</td>\n",
       "      <td>81000</td>\n",
       "    </tr>\n",
       "    <tr>\n",
       "      <th>1</th>\n",
       "      <td>AARON,  JEFFERY M</td>\n",
       "      <td>POLICE OFFICER</td>\n",
       "      <td>POLICE</td>\n",
       "      <td>74628</td>\n",
       "    </tr>\n",
       "    <tr>\n",
       "      <th>2</th>\n",
       "      <td>AARON,  KIMBERLEI R</td>\n",
       "      <td>CHIEF CONTRACT EXPEDITER</td>\n",
       "      <td>FLEET MANAGEMNT</td>\n",
       "      <td>77280</td>\n",
       "    </tr>\n",
       "    <tr>\n",
       "      <th>3</th>\n",
       "      <td>ABAD JR,  VICENTE M</td>\n",
       "      <td>CIVIL ENGINEER IV</td>\n",
       "      <td>WATER MGMNT</td>\n",
       "      <td>96276</td>\n",
       "    </tr>\n",
       "    <tr>\n",
       "      <th>4</th>\n",
       "      <td>ABBATACOLA,  ROBERT J</td>\n",
       "      <td>ELECTRICAL MECHANIC</td>\n",
       "      <td>WATER MGMNT</td>\n",
       "      <td>84032</td>\n",
       "    </tr>\n",
       "    <tr>\n",
       "      <th>5</th>\n",
       "      <td>ABBATE,  TERRY M</td>\n",
       "      <td>POLICE OFFICER</td>\n",
       "      <td>POLICE</td>\n",
       "      <td>79926</td>\n",
       "    </tr>\n",
       "    <tr>\n",
       "      <th>6</th>\n",
       "      <td>ABBATEMARCO,  JAMES J</td>\n",
       "      <td>FIREFIGHTER</td>\n",
       "      <td>FIRE</td>\n",
       "      <td>77238</td>\n",
       "    </tr>\n",
       "    <tr>\n",
       "      <th>7</th>\n",
       "      <td>ABBOTT,  BETTY L</td>\n",
       "      <td>FOSTER GRANDPARENT</td>\n",
       "      <td>FAMILY &amp; SUPPORT</td>\n",
       "      <td>2756</td>\n",
       "    </tr>\n",
       "    <tr>\n",
       "      <th>8</th>\n",
       "      <td>ABBOTT,  LYNISE M</td>\n",
       "      <td>CLERK III</td>\n",
       "      <td>FAMILY &amp; SUPPORT</td>\n",
       "      <td>38568</td>\n",
       "    </tr>\n",
       "    <tr>\n",
       "      <th>9</th>\n",
       "      <td>ABBOTT,  SAM J</td>\n",
       "      <td>ELECTRICAL MECHANIC</td>\n",
       "      <td>TRANSPORTN</td>\n",
       "      <td>84032</td>\n",
       "    </tr>\n",
       "  </tbody>\n",
       "</table>\n",
       "</div>"
      ],
      "text/plain": [
       "                    name                     title        department  salary\n",
       "0        AARON,  ELVIA J          WATER RATE TAKER       WATER MGMNT   81000\n",
       "1      AARON,  JEFFERY M            POLICE OFFICER            POLICE   74628\n",
       "2    AARON,  KIMBERLEI R  CHIEF CONTRACT EXPEDITER   FLEET MANAGEMNT   77280\n",
       "3    ABAD JR,  VICENTE M         CIVIL ENGINEER IV       WATER MGMNT   96276\n",
       "4  ABBATACOLA,  ROBERT J       ELECTRICAL MECHANIC       WATER MGMNT   84032\n",
       "5       ABBATE,  TERRY M            POLICE OFFICER            POLICE   79926\n",
       "6  ABBATEMARCO,  JAMES J               FIREFIGHTER              FIRE   77238\n",
       "7       ABBOTT,  BETTY L        FOSTER GRANDPARENT  FAMILY & SUPPORT    2756\n",
       "8      ABBOTT,  LYNISE M                 CLERK III  FAMILY & SUPPORT   38568\n",
       "9         ABBOTT,  SAM J       ELECTRICAL MECHANIC        TRANSPORTN   84032"
      ]
     },
     "execution_count": 5,
     "metadata": {},
     "output_type": "execute_result"
    }
   ],
   "source": [
    "df = hive.executeQuery(\"select * from employees\")\n",
    "df.toPandas().head(10)"
   ]
  },
  {
   "cell_type": "code",
   "execution_count": null,
   "metadata": {},
   "outputs": [],
   "source": []
  }
 ],
 "metadata": {
  "kernelspec": {
   "display_name": "PySpark2 (HWC)",
   "language": "python",
   "name": "pyspark2_hwc"
  },
  "language_info": {
   "codemirror_mode": {
    "name": "ipython",
    "version": 2
   },
   "file_extension": ".py",
   "mimetype": "text/x-python",
   "name": "python",
   "nbconvert_exporter": "python",
   "pygments_lexer": "ipython2",
   "version": "2.7.5"
  }
 },
 "nbformat": 4,
 "nbformat_minor": 4
}
