{
 "cells": [
  {
   "cell_type": "code",
   "execution_count": null,
   "metadata": {},
   "outputs": [],
   "source": [
    "from pyspark_llap import HiveWarehouseSession\n",
    "hive = HiveWarehouseSession.session(spark).build()\n",
    "hive.showDatabases().show(10)"
   ]
  },
  {
   "cell_type": "code",
   "execution_count": null,
   "metadata": {},
   "outputs": [],
   "source": [
    "hive.setDatabase(\"default\")\n",
    "hive.createTable(\"web_sales\").ifNotExists().\\\n",
    "    column(\"sold_time_sk\", \"bigint\").column(\"ws_ship_date_sk\", \"bigint\").create()\n",
    "hive.describeTable(\"web_sales\").show()\n",
    "hive.dropTable(\"web_sales\", True, True)"
   ]
  },
  {
   "cell_type": "code",
   "execution_count": null,
   "metadata": {},
   "outputs": [],
   "source": [
    "df = spark.read.csv(\"/data/examples/Employees.tsv\", \n",
    "                    header=False, sep='\\t', mode=\"DROPMALFORMED\", inferSchema=True\n",
    "                   ).toDF(\"name\", \"title\", \"department\", \"salary\")\n",
    "df.printSchema()"
   ]
  },
  {
   "cell_type": "code",
   "execution_count": null,
   "metadata": {},
   "outputs": [],
   "source": [
    "df.write.format(HiveWarehouseSession().HIVE_WAREHOUSE_CONNECTOR)\\\n",
    "    .mode(\"overwrite\").option(\"table\", \"employees\").save()"
   ]
  },
  {
   "cell_type": "code",
   "execution_count": null,
   "metadata": {},
   "outputs": [],
   "source": [
    "df = hive.executeQuery(\"select * from employees\")\n",
    "df.toPandas().head(10)"
   ]
  },
  {
   "cell_type": "code",
   "execution_count": null,
   "metadata": {},
   "outputs": [],
   "source": []
  }
 ],
 "metadata": {
  "kernelspec": {
   "display_name": "PySpark2 (HWC)",
   "language": "python",
   "name": "pyspark2_hwc"
  },
  "language_info": {
   "codemirror_mode": {
    "name": "ipython",
    "version": 2
   },
   "file_extension": ".py",
   "mimetype": "text/x-python",
   "name": "python",
   "nbconvert_exporter": "python",
   "pygments_lexer": "ipython2",
   "version": "2.7.5"
  }
 },
 "nbformat": 4,
 "nbformat_minor": 4
}
