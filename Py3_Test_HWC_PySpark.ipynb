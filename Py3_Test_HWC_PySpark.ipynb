{
 "cells": [
  {
   "cell_type": "code",
   "execution_count": 1,
   "metadata": {},
   "outputs": [
    {
     "name": "stdout",
     "output_type": "stream",
     "text": [
      "+------------------+\n",
      "|     database_name|\n",
      "+------------------+\n",
      "|           default|\n",
      "|information_schema|\n",
      "|               pdi|\n",
      "|            poc_db|\n",
      "|               sys|\n",
      "|           twitter|\n",
      "+------------------+\n",
      "\n"
     ]
    }
   ],
   "source": [
    "from pyspark_llap import HiveWarehouseSession\n",
    "hive = HiveWarehouseSession.session(spark).build()\n",
    "hive.showDatabases().show(10)"
   ]
  },
  {
   "cell_type": "code",
   "execution_count": 2,
   "metadata": {},
   "outputs": [
    {
     "name": "stdout",
     "output_type": "stream",
     "text": [
      "+---------------+\n",
      "|       tab_name|\n",
      "+---------------+\n",
      "|           bank|\n",
      "|         crimes|\n",
      "|      employees|\n",
      "|palabras_claves|\n",
      "|        pdi_log|\n",
      "|    pdi_raw_log|\n",
      "|           test|\n",
      "|     test_table|\n",
      "|    trz_cabezal|\n",
      "+---------------+\n",
      "\n"
     ]
    }
   ],
   "source": [
    "hive.showTables().show(10)"
   ]
  },
  {
   "cell_type": "code",
   "execution_count": 3,
   "metadata": {},
   "outputs": [
    {
     "name": "stdout",
     "output_type": "stream",
     "text": [
      "+---------------+---------+-------+\n",
      "|       col_name|data_type|comment|\n",
      "+---------------+---------+-------+\n",
      "|   sold_time_sk|   bigint|       |\n",
      "|ws_ship_date_sk|   bigint|       |\n",
      "+---------------+---------+-------+\n",
      "\n"
     ]
    }
   ],
   "source": [
    "hive.createTable(\"web_sales\").ifNotExists().\\\n",
    "    column(\"sold_time_sk\", \"bigint\").column(\"ws_ship_date_sk\", \"bigint\").create()\n",
    "hive.describeTable(\"web_sales\").show()\n",
    "hive.dropTable(\"web_sales\", True, True)"
   ]
  },
  {
   "cell_type": "code",
   "execution_count": null,
   "metadata": {},
   "outputs": [],
   "source": [
    "df = hive.executeQuery(\"select * from employees\")\n",
    "df.toPandas().head(10)"
   ]
  },
  {
   "cell_type": "code",
   "execution_count": null,
   "metadata": {},
   "outputs": [],
   "source": []
  }
 ],
 "metadata": {
  "kernelspec": {
   "display_name": "PySpark3 (HWC)",
   "language": "python",
   "name": "pyspark3_hwc"
  },
  "language_info": {
   "codemirror_mode": {
    "name": "ipython",
    "version": 3
   },
   "file_extension": ".py",
   "mimetype": "text/x-python",
   "name": "python",
   "nbconvert_exporter": "python",
   "pygments_lexer": "ipython3",
   "version": "3.7.8"
  }
 },
 "nbformat": 4,
 "nbformat_minor": 4
}
