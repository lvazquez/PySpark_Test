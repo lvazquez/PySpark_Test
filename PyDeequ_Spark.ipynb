{
 "cells": [
  {
   "cell_type": "code",
   "execution_count": null,
   "id": "af6e59b1",
   "metadata": {
    "scrolled": true
   },
   "outputs": [],
   "source": [
    "import sys\n",
    "import numpy as np\n",
    "import pandas as pd\n",
    "import sklearn as skl\n",
    "\n",
    "print(\"PATH: {}\".format(os.environ['PATH']))\n",
    "print(\"PYTHONPATH: {}\".format(os.environ['PYTHONPATH']))\n",
    "print(\"\")\n",
    "print(\"Spark: {}\".format(spark.version))\n",
    "print(\"Python: {}\".format(sys.version))\n",
    "spark.sparkContext"
   ]
  },
  {
   "cell_type": "markdown",
   "id": "4f64b487",
   "metadata": {},
   "source": [
    "## Import PyDeequ and init PySpark DataFrame"
   ]
  },
  {
   "cell_type": "code",
   "execution_count": null,
   "id": "7f814f35",
   "metadata": {},
   "outputs": [],
   "source": [
    "from pyspark.sql import SparkSession, Row\n",
    "import pydeequ\n",
    "\n",
    "df = spark.sparkContext.parallelize([\n",
    "            Row(a=\"foo\", b=1, c=5),\n",
    "            Row(a=\"bar\", b=2, c=6),\n",
    "            Row(a=\"baz\", b=3, c=None)]).toDF()\n",
    "df.toPandas()"
   ]
  },
  {
   "cell_type": "markdown",
   "id": "bc2314d5",
   "metadata": {},
   "source": [
    "## Example Analyzer"
   ]
  },
  {
   "cell_type": "code",
   "execution_count": null,
   "id": "b4eba7e7",
   "metadata": {},
   "outputs": [],
   "source": [
    "from pydeequ.analyzers import *\n",
    "\n",
    "analyzer = AnalysisRunner(spark).onData(df).addAnalyzer(Size()).addAnalyzer(Completeness(\"b\"))\n",
    "analysisResult = analyzer.run()\n",
    "\n",
    "analysisResult_df = AnalyzerContext.successMetricsAsDataFrame(spark, analysisResult)\n",
    "analysisResult_df.toPandas()"
   ]
  },
  {
   "cell_type": "markdown",
   "id": "b90f769a",
   "metadata": {},
   "source": [
    "## Example Profile"
   ]
  },
  {
   "cell_type": "code",
   "execution_count": null,
   "id": "5b280b7f",
   "metadata": {},
   "outputs": [],
   "source": [
    "from pydeequ.profiles import *\n",
    "\n",
    "profiler = ColumnProfilerRunner(spark).onData(df)\n",
    "result = profiler.run()\n",
    "\n",
    "for col, profile in result.profiles.items():\n",
    "    print(f\"{col} => {profile}\")"
   ]
  },
  {
   "cell_type": "markdown",
   "id": "ff8913f7",
   "metadata": {},
   "source": [
    "## Example Constraint Suggestions"
   ]
  },
  {
   "cell_type": "code",
   "execution_count": null,
   "id": "ba4377a7",
   "metadata": {},
   "outputs": [],
   "source": [
    "from pydeequ.suggestions import *\n",
    "\n",
    "csrunner = ConstraintSuggestionRunner(spark).onData(df).addConstraintRule(DEFAULT())\n",
    "suggestionResult = csrunner.run()\n",
    "\n",
    "# Constraint Suggestions in JSON format\n",
    "print(suggestionResult['constraint_suggestions'])"
   ]
  },
  {
   "cell_type": "markdown",
   "id": "85bb3563",
   "metadata": {},
   "source": [
    "## Example Constraint Verification"
   ]
  },
  {
   "cell_type": "code",
   "execution_count": null,
   "id": "e1c93e37",
   "metadata": {},
   "outputs": [],
   "source": [
    "from pydeequ.checks import *\n",
    "from pydeequ.verification import *\n",
    "\n",
    "check = Check(spark, CheckLevel.Warning, \"Review Check\")\n",
    "\n",
    "checkCond = check.hasSize(lambda x: x >= 3)\\\n",
    "    .hasMin(\"b\", lambda x: x == 0)\\\n",
    "    .isUnique(\"a\").isNonNegative(\"b\").isComplete(\"c\")\\\n",
    "    .isContainedIn(\"a\", [\"foo\", \"bar\", \"baz\"])\n",
    "\n",
    "verificator = VerificationSuite(spark).onData(df).addCheck(checkCond)\n",
    "checkResult = verificator.run()\n",
    "\n",
    "checkResult_df = VerificationResult.checkResultsAsDataFrame(spark, checkResult)\n",
    "checkResult_df.toPandas()"
   ]
  },
  {
   "cell_type": "code",
   "execution_count": null,
   "id": "ea9e7aaf",
   "metadata": {},
   "outputs": [],
   "source": []
  }
 ],
 "metadata": {
  "kernelspec": {
   "display_name": "PySpark3",
   "language": "python",
   "name": "pyspark3"
  },
  "language_info": {
   "codemirror_mode": {
    "name": "ipython",
    "version": 3
   },
   "file_extension": ".py",
   "mimetype": "text/x-python",
   "name": "python",
   "nbconvert_exporter": "python",
   "pygments_lexer": "ipython3",
   "version": "3.7.12"
  }
 },
 "nbformat": 4,
 "nbformat_minor": 5
}
