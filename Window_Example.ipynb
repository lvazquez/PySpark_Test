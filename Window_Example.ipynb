{
 "cells": [
  {
   "cell_type": "code",
   "execution_count": 7,
   "metadata": {},
   "outputs": [
    {
     "data": {
      "text/html": [
       "<div>\n",
       "<style scoped>\n",
       "    .dataframe tbody tr th:only-of-type {\n",
       "        vertical-align: middle;\n",
       "    }\n",
       "\n",
       "    .dataframe tbody tr th {\n",
       "        vertical-align: top;\n",
       "    }\n",
       "\n",
       "    .dataframe thead th {\n",
       "        text-align: right;\n",
       "    }\n",
       "</style>\n",
       "<table border=\"1\" class=\"dataframe\">\n",
       "  <thead>\n",
       "    <tr style=\"text-align: right;\">\n",
       "      <th></th>\n",
       "      <th>uid</th>\n",
       "      <th>value</th>\n",
       "      <th>desc</th>\n",
       "    </tr>\n",
       "  </thead>\n",
       "  <tbody>\n",
       "    <tr>\n",
       "      <th>0</th>\n",
       "      <td>1</td>\n",
       "      <td>1</td>\n",
       "      <td>uno-uno</td>\n",
       "    </tr>\n",
       "    <tr>\n",
       "      <th>1</th>\n",
       "      <td>1</td>\n",
       "      <td>2</td>\n",
       "      <td>uno-dos</td>\n",
       "    </tr>\n",
       "    <tr>\n",
       "      <th>2</th>\n",
       "      <td>2</td>\n",
       "      <td>3</td>\n",
       "      <td>dos-tres</td>\n",
       "    </tr>\n",
       "    <tr>\n",
       "      <th>3</th>\n",
       "      <td>2</td>\n",
       "      <td>7</td>\n",
       "      <td>dos-siete</td>\n",
       "    </tr>\n",
       "    <tr>\n",
       "      <th>4</th>\n",
       "      <td>2</td>\n",
       "      <td>10</td>\n",
       "      <td>dos-diez</td>\n",
       "    </tr>\n",
       "    <tr>\n",
       "      <th>5</th>\n",
       "      <td>3</td>\n",
       "      <td>11</td>\n",
       "      <td>tres-once</td>\n",
       "    </tr>\n",
       "  </tbody>\n",
       "</table>\n",
       "</div>"
      ],
      "text/plain": [
       "   uid  value       desc\n",
       "0    1      1    uno-uno\n",
       "1    1      2    uno-dos\n",
       "2    2      3   dos-tres\n",
       "3    2      7  dos-siete\n",
       "4    2     10   dos-diez\n",
       "5    3     11  tres-once"
      ]
     },
     "execution_count": 7,
     "metadata": {},
     "output_type": "execute_result"
    }
   ],
   "source": [
    "data = [(1, 1, \"uno-uno\"), \n",
    "        (1, 2, \"uno-dos\"), \n",
    "        (2, 3, \"dos-tres\"),\n",
    "        (2, 7, \"dos-siete\"),\n",
    "        (2, 10, \"dos-diez\"),\n",
    "        (3, 11, \"tres-once\")]\n",
    "\n",
    "df = spark.createDataFrame(data, [\"uid\", \"value\", \"desc\"])\n",
    "df.toPandas()"
   ]
  },
  {
   "cell_type": "code",
   "execution_count": 8,
   "metadata": {},
   "outputs": [
    {
     "name": "stdout",
     "output_type": "stream",
     "text": [
      "+---+-----+---------+----+\n",
      "|uid|value|     desc|rank|\n",
      "+---+-----+---------+----+\n",
      "|  1|    2|  uno-dos|   1|\n",
      "|  3|   11|tres-once|   1|\n",
      "|  2|   10| dos-diez|   1|\n",
      "+---+-----+---------+----+\n",
      "\n"
     ]
    }
   ],
   "source": [
    "df.createOrReplaceTempView(\"users\")\n",
    "\n",
    "df1 = spark.sql(\"SELECT * FROM \"\n",
    "                \"(SELECT uid, value, desc, rank() OVER (PARTITION BY uid ORDER BY value DESC) AS rank FROM users) t \"\n",
    "                \" WHERE rank = 1\")\n",
    "df1.show()"
   ]
  },
  {
   "cell_type": "code",
   "execution_count": 13,
   "metadata": {},
   "outputs": [
    {
     "name": "stdout",
     "output_type": "stream",
     "text": [
      "+---+-----+---------+----+\n",
      "|uid|value|     desc|rank|\n",
      "+---+-----+---------+----+\n",
      "|  1|    2|  uno-dos|   1|\n",
      "|  3|   11|tres-once|   1|\n",
      "|  2|   10| dos-diez|   1|\n",
      "+---+-----+---------+----+\n",
      "\n"
     ]
    }
   ],
   "source": [
    "from pyspark.sql.functions import col, row_number, rank\n",
    "from pyspark.sql.window import Window\n",
    "\n",
    "w = Window().partitionBy(\"uid\").orderBy(col(\"value\").desc())\n",
    "# usar row_number para evitar duplicados en caso de empate\n",
    "df2 = df.withColumn(\"rank\", row_number().over(w)).where(col(\"rank\") == 1)\n",
    "df2.show()"
   ]
  },
  {
   "cell_type": "code",
   "execution_count": null,
   "metadata": {},
   "outputs": [],
   "source": []
  }
 ],
 "metadata": {
  "kernelspec": {
   "display_name": "PySpark3",
   "language": "python",
   "name": "pyspark3"
  },
  "language_info": {
   "codemirror_mode": {
    "name": "ipython",
    "version": 3
   },
   "file_extension": ".py",
   "mimetype": "text/x-python",
   "name": "python",
   "nbconvert_exporter": "python",
   "pygments_lexer": "ipython3",
   "version": "3.7.8"
  }
 },
 "nbformat": 4,
 "nbformat_minor": 4
}
