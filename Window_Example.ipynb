{
 "cells": [
  {
   "cell_type": "code",
   "execution_count": null,
   "metadata": {},
   "outputs": [],
   "source": [
    "data = [(1, 1, \"uno-uno\"), \n",
    "        (1, 2, \"uno-dos\"), \n",
    "        (2, 3, \"dos-tres\"),\n",
    "        (2, 7, \"dos-siete\"),\n",
    "        (2, 10, \"dos-diez\"),\n",
    "        (3, 11, \"tres-once\")]\n",
    "\n",
    "df = spark.createDataFrame(data, [\"uid\", \"value\", \"desc\"])\n",
    "df.toPandas()"
   ]
  },
  {
   "cell_type": "code",
   "execution_count": null,
   "metadata": {},
   "outputs": [],
   "source": [
    "df.createOrReplaceTempView(\"users\")\n",
    "\n",
    "df1 = spark.sql(\"SELECT * FROM \"\n",
    "                \"(SELECT uid, value, desc, rank() OVER (PARTITION BY uid ORDER BY value DESC) AS rank FROM users) t \"\n",
    "                \" WHERE rank = 1\")\n",
    "df1.show()"
   ]
  },
  {
   "cell_type": "code",
   "execution_count": null,
   "metadata": {},
   "outputs": [],
   "source": [
    "from pyspark.sql.functions import col, row_number, rank\n",
    "from pyspark.sql.window import Window\n",
    "\n",
    "w = Window().partitionBy(\"uid\").orderBy(col(\"value\").desc())\n",
    "# usar row_number para evitar duplicados en caso de empate\n",
    "df2 = df.withColumn(\"rank\", row_number().over(w)).where(col(\"rank\") == 1)\n",
    "df2.show()"
   ]
  },
  {
   "cell_type": "code",
   "execution_count": null,
   "metadata": {},
   "outputs": [],
   "source": []
  }
 ],
 "metadata": {
  "kernelspec": {
   "display_name": "PySpark3",
   "language": "python",
   "name": "pyspark3"
  },
  "language_info": {
   "codemirror_mode": {
    "name": "ipython",
    "version": 3
   },
   "file_extension": ".py",
   "mimetype": "text/x-python",
   "name": "python",
   "nbconvert_exporter": "python",
   "pygments_lexer": "ipython3",
   "version": "3.7.8"
  }
 },
 "nbformat": 4,
 "nbformat_minor": 4
}
